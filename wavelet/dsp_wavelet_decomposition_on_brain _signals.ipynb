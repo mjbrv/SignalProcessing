{
 "cells": [
  {
   "cell_type": "code",
   "execution_count": null,
   "metadata": {},
   "outputs": [],
   "source": [
    "import numpy as np\n",
    "import matplotlib.pyplot as plt\n",
    "from scipy import signal\n",
    "from scipy import fftpack\n",
    "import scipy\n",
    "import scipy.io as sio\n",
    "import copy"
   ]
  },
  {
   "cell_type": "markdown",
   "metadata": {},
   "source": [
    "\n",
    "---\n",
    "# Time-frequency analysis of brain signals\n",
    "---\n"
   ]
  },
  {
   "cell_type": "code",
   "execution_count": null,
   "metadata": {},
   "outputs": [],
   "source": [
    "# load in data\n",
    "braindat = sio.loadmat('data4TF.mat')\n",
    "timevec = braindat['timevec'][0]\n",
    "srate = braindat['srate'][0]\n",
    "data = braindat['data'][0]\n",
    "\n",
    "# plot the signal\n",
    "plt.plot(timevec,data)\n",
    "plt.xlabel('Time (s)'), plt.ylabel('Voltage (\\muV)')\n",
    "plt.title('Time-domain signal')\n",
    "plt.show()"
   ]
  },
  {
   "cell_type": "code",
   "execution_count": null,
   "metadata": {},
   "outputs": [],
   "source": [
    "## create complex Morlet wavelets\n",
    "\n",
    "# wavelet parameters\n",
    "nfrex = 50 # 50 frequencies\n",
    "frex  = np.linspace(8,70,nfrex)\n",
    "fwhm  = .2 # full-width at half-maximum in seconds\n",
    "\n",
    "# time vector for wavelets\n",
    "wavetime = np.arange(-2,2,1/srate)\n",
    "\n",
    "\n",
    "# initialize matrices for wavelets\n",
    "wavelets = np.zeros( (nfrex,len(wavetime)) ,dtype=complex)\n",
    "\n",
    "# create complex Morlet wavelet family\n",
    "for wi in range(0,nfrex):\n",
    "    # Gaussian\n",
    "    gaussian = np.exp( -(4*np.log(2)*wavetime**2) / fwhm**2 )\n",
    "    \n",
    "    # complex Morlet wavelet\n",
    "    wavelets[wi,:] = np.exp(1j*2*np.pi*frex[wi]*wavetime) * gaussian\n",
    "    \n",
    "\n",
    "# show the wavelets\n",
    "plt.plot(wavetime,np.real(wavelets[10,:]),label='Real part')\n",
    "plt.plot(wavetime,np.imag(wavelets[10,:]),label='Imag part')\n",
    "plt.xlabel('Time')\n",
    "plt.xlim([-.5, .5])\n",
    "plt.legend()\n",
    "plt.show()\n",
    "\n",
    "plt.pcolormesh(wavetime,frex,np.real(wavelets))\n",
    "plt.xlabel('Time (s)'), plt.ylabel('Frequency (Hz)')\n",
    "plt.title('Real part of wavelets')\n",
    "plt.xlim([-.5,.5])\n",
    "plt.show()"
   ]
  },
  {
   "cell_type": "code",
   "execution_count": null,
   "metadata": {},
   "outputs": [],
   "source": [
    "## run convolution using spectral multiplication\n",
    "\n",
    "# convolution parameters\n",
    "nconv = len(timevec) + len(wavetime) - 1 # M+N-1\n",
    "halfk = int( np.floor(len(wavetime)/2) )\n",
    "\n",
    "# Fourier spectrum of the signal\n",
    "dataX = scipy.fftpack.fft(data,nconv)\n",
    "\n",
    "# initialize time-frequency matrix\n",
    "tf = np.zeros( (nfrex,len(timevec)) )\n",
    "\n",
    "\n",
    "# convolution per frequency\n",
    "for fi in range(0,nfrex):\n",
    "    \n",
    "    # FFT of the wavelet\n",
    "    waveX = scipy.fftpack.fft(wavelets[fi,:],nconv)\n",
    "    # amplitude-normalize the wavelet\n",
    "    waveX = waveX / np.abs(np.max(waveX))\n",
    "    \n",
    "    # convolution\n",
    "    convres = scipy.fftpack.ifft( waveX*dataX )\n",
    "    # trim the \"wings\"\n",
    "    convres = convres[halfk-1:-halfk]\n",
    "    \n",
    "    # extract power from complex signal\n",
    "    tf[fi,:] = np.abs(convres)**2"
   ]
  },
  {
   "cell_type": "code",
   "execution_count": null,
   "metadata": {},
   "outputs": [],
   "source": [
    "## plot the results\n",
    "\n",
    "plt.pcolormesh(timevec,frex,tf,vmin=0,vmax=1e3)\n",
    "plt.xlabel('Time (s)'), plt.ylabel('Frequency (Hz)')\n",
    "plt.title('Time-frequency power')\n",
    "plt.show()"
   ]
  }
 ],
 "metadata": {
  "kernelspec": {
   "display_name": "Python 3 (ipykernel)",
   "language": "python",
   "name": "python3"
  },
  "language_info": {
   "codemirror_mode": {
    "name": "ipython",
    "version": 3
   },
   "file_extension": ".py",
   "mimetype": "text/x-python",
   "name": "python",
   "nbconvert_exporter": "python",
   "pygments_lexer": "ipython3",
   "version": "3.11.5"
  }
 },
 "nbformat": 4,
 "nbformat_minor": 2
}
